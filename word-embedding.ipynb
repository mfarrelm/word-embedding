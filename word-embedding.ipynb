{
 "cells": [
  {
   "cell_type": "code",
   "execution_count": null,
   "metadata": {
    "ExecuteTime": {
     "end_time": "2020-01-11T07:49:21.779239Z",
     "start_time": "2020-01-11T07:49:21.772937Z"
    }
   },
   "outputs": [],
   "source": [
    "import gensim\n",
    "from gensim.corpora import WikiCorpus\n",
    "import re\n",
    "import multiprocessing\n",
    "import pandas as pd\n",
    "pd.options.mode.chained_assignment = None \n",
    "import numpy as np\n",
    "import nltk\n",
    "from sklearn.manifold import TSNE\n",
    "import matplotlib.pyplot as plt\n",
    "%matplotlib inline"
   ]
  },
  {
   "cell_type": "code",
   "execution_count": null,
   "metadata": {
    "ExecuteTime": {
     "end_time": "2020-01-11T05:52:49.842477Z",
     "start_time": "2020-01-11T05:40:51.474884Z"
    }
   },
   "outputs": [],
   "source": [
    "wiki = WikiCorpus('idwiki-20200101-pages-articles-multistream.xml.bz2')"
   ]
  },
  {
   "cell_type": "code",
   "execution_count": null,
   "metadata": {
    "ExecuteTime": {
     "end_time": "2020-01-11T06:06:13.988344Z",
     "start_time": "2020-01-11T05:55:34.523545Z"
    }
   },
   "outputs": [],
   "source": [
    "### Get dataset from wikipedia corpus ###   \n",
    "with open('id-corpus.txt', 'w+', encoding=\"utf-8\") as f:\n",
    "    \n",
    "    article_wiki = 0\n",
    "    word_wiki = 0\n",
    "    for text in wiki.get_texts():\n",
    "        word_wiki += len(text)\n",
    "        f.write(' '.join(text) + '\\n')\n",
    "        article_wiki += 1\n",
    "        if article_wiki % 10000 == 0:\n",
    "            print('Processed article : ', article_wiki)\n",
    "            print('Processed word : ', word_wiki, '\\n')\n",
    "\n",
    "    print('Total wikipedia article : ', article_wiki)\n",
    "    print('Total wikipedia word : ', word_wiki, '\\n')\n",
    "    \n"
   ]
  },
  {
   "cell_type": "code",
   "execution_count": null,
   "metadata": {
    "ExecuteTime": {
     "end_time": "2020-01-11T06:14:15.355360Z",
     "start_time": "2020-01-11T06:11:14.234573Z"
    }
   },
   "outputs": [],
   "source": [
    "### Get dataset from opensubs.com corpus ###\n",
    "with open('id-corpus.txt', 'a+', encoding=\"utf-8\") as f:\n",
    "    sentence_osubs = 0\n",
    "    word_osubs = 0\n",
    "    with open('id-osubs-corpus.txt', 'r',  encoding=\"utf-8\") as f_osubs:\n",
    "        for text in f_osubs.readlines():\n",
    "            text = text.strip().lower()\n",
    "            text = re.sub('[^a-z]+', ' ', text)\n",
    "            text = re.sub(' +', ' ', text).strip()\n",
    "            sentence_osubs += 1\n",
    "            word_osubs += len(text.split())\n",
    "            f.write(text + '\\n')\n",
    "\n",
    "            if sentence_osubs % 10000 == 0:\n",
    "                print('Processed sentence : ', sentence_osubs)\n",
    "                print('Processed word : ', word_osubs, '\\n')\n",
    "\n",
    "        print('Total opensubs sentence : ', sentence_osubs)\n",
    "        print('Total opensubs word : ', word_osubs)"
   ]
  },
  {
   "cell_type": "code",
   "execution_count": null,
   "metadata": {
    "ExecuteTime": {
     "end_time": "2020-01-11T06:34:16.417314Z",
     "start_time": "2020-01-11T06:34:16.413324Z"
    }
   },
   "outputs": [],
   "source": [
    "corpus = gensim.models.word2vec.LineSentence('id-corpus.txt')\n",
    "model = gensim.models.word2vec.Word2Vec(corpus, size=128, workers=multiprocessing.cpu_count()-1, negative = 5)"
   ]
  },
  {
   "cell_type": "code",
   "execution_count": null,
   "metadata": {
    "ExecuteTime": {
     "end_time": "2020-01-11T07:06:35.126641Z",
     "start_time": "2020-01-11T07:06:30.560368Z"
    }
   },
   "outputs": [],
   "source": [
    "print('Total word in vocabulary : ', len(model.wv.vocab))\n",
    "print('Total feature dimension : ', len(model.wv.get_vector('lari')))\n",
    "model.save('w2v_embedding_200M_128dim.model')"
   ]
  },
  {
   "cell_type": "code",
   "execution_count": null,
   "metadata": {},
   "outputs": [],
   "source": []
  }
 ],
 "metadata": {
  "kernelspec": {
   "display_name": "Python 3",
   "language": "python",
   "name": "python3"
  },
  "language_info": {
   "codemirror_mode": {
    "name": "ipython",
    "version": 3
   },
   "file_extension": ".py",
   "mimetype": "text/x-python",
   "name": "python",
   "nbconvert_exporter": "python",
   "pygments_lexer": "ipython3",
   "version": "3.7.5"
  },
  "toc": {
   "base_numbering": 1,
   "nav_menu": {},
   "number_sections": true,
   "sideBar": true,
   "skip_h1_title": false,
   "title_cell": "Table of Contents",
   "title_sidebar": "Contents",
   "toc_cell": false,
   "toc_position": {},
   "toc_section_display": true,
   "toc_window_display": false
  },
  "varInspector": {
   "cols": {
    "lenName": 16,
    "lenType": 16,
    "lenVar": 40
   },
   "kernels_config": {
    "python": {
     "delete_cmd_postfix": "",
     "delete_cmd_prefix": "del ",
     "library": "var_list.py",
     "varRefreshCmd": "print(var_dic_list())"
    },
    "r": {
     "delete_cmd_postfix": ") ",
     "delete_cmd_prefix": "rm(",
     "library": "var_list.r",
     "varRefreshCmd": "cat(var_dic_list()) "
    }
   },
   "types_to_exclude": [
    "module",
    "function",
    "builtin_function_or_method",
    "instance",
    "_Feature"
   ],
   "window_display": false
  }
 },
 "nbformat": 4,
 "nbformat_minor": 2
}
